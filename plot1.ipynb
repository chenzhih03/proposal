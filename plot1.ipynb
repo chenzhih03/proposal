''' Run Jupyter Notebook '''
import numpy as np
import pandas as pd
import matplotlib.pyplot as plt
%matplotlib inline

df = pd.read_json('congress_meta_final_test.json')

df.head()

df.loc[df['subject'] =='Health',:]


date = df.loc[df['subject'] =='Health','dates'].values
x = [(int(i[0].split('/')[-1]) + int(i[-1].split('/')[-1]))*0.5 for i in date[0:-1]]
y = [len(i) for i in date[0:-1]]


fig, ax = plt.subplots(1,1,figsize=(15,10))
ax.plot(x,y)
ax.set_title('The number of Health bills disscussed in congress',fontsize = 30)


